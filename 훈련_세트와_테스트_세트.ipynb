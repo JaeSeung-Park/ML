{
  "nbformat": 4,
  "nbformat_minor": 0,
  "metadata": {
    "colab": {
      "provenance": [],
      "authorship_tag": "ABX9TyNh/NPAYeX0kxF5fOSD/yLB",
      "include_colab_link": true
    },
    "kernelspec": {
      "name": "python3",
      "display_name": "Python 3"
    },
    "language_info": {
      "name": "python"
    }
  },
  "cells": [
    {
      "cell_type": "markdown",
      "metadata": {
        "id": "view-in-github",
        "colab_type": "text"
      },
      "source": [
        "<a href=\"https://colab.research.google.com/github/JaeSeung-Park/ML/blob/main/%ED%9B%88%EB%A0%A8_%EC%84%B8%ED%8A%B8%EC%99%80_%ED%85%8C%EC%8A%A4%ED%8A%B8_%EC%84%B8%ED%8A%B8.ipynb\" target=\"_parent\"><img src=\"https://colab.research.google.com/assets/colab-badge.svg\" alt=\"Open In Colab\"/></a>"
      ]
    },
    {
      "cell_type": "markdown",
      "source": [
        "# 새 섹션"
      ],
      "metadata": {
        "id": "PFcogi-LN0iG"
      }
    },
    {
      "cell_type": "markdown",
      "source": [
        "- 머신러닝 알고리즘은 크게 **지도 학습**(supervised learning) 과 **비지도 학습**(unsupervised learning)으로 나눌 수 있다\n",
        "- 지도 학습에서는 데이터와 정답을 **입력**과 **타깃**이라 하고, 이 둘을 합쳐 **훈련 데이터**라고 부름/ 입력으로 사용된 데이터 -> **특성**\n",
        "- 비지도 학습 알고리즘은 타깃 없이 입력 데이터만 사용 -> 정답을 사용하지 않으므로 무언가를 맞힐 수가 없음 -> 데이터를 잘 파악하거나 변형하는데 도움을 줌\n",
        "- 머신러닝 알고리즘은 지도 학습, 비지도 학습 외에 **강화학습**(reinforcement learning)을 또 다른 종류고 크게 분류 -> 타깃이 아니라 알고리즘이 행동한 결과로 얻은 보상를 사용해 학습함\n",
        "- 머신러닝의 정확한 평가를 위해서는 **테스트 세트**와 **훈련 세트**가 필요함\n",
        "\n",
        ">- 테스트 세트(test set): 평가에 사용하는 데이터\n",
        "\n",
        ">- 훈련 세트(train set): 훈련에 사용되는 데이터"
      ],
      "metadata": {
        "id": "kLqoFUquJCY9"
      }
    },
    {
      "cell_type": "code",
      "source": [
        "fish_length = [25.4, 26.3, 26.5, 29.0, 29.0, 29.7, 29.7, 30.0, 30.0, 30.7, 31.0, 31.0, \n",
        "                31.5, 32.0, 32.0, 32.0, 33.0, 33.0, 33.5, 33.5, 34.0, 34.0, 34.5, 35.0, \n",
        "                35.0, 35.0, 35.0, 36.0, 36.0, 37.0, 38.5, 38.5, 39.5, 41.0, 41.0, 9.8, \n",
        "                10.5, 10.6, 11.0, 11.2, 11.3, 11.8, 11.8, 12.0, 12.2, 12.4, 13.0, 14.3, 15.0]\n",
        "fish_weight = [242.0, 290.0, 340.0, 363.0, 430.0, 450.0, 500.0, 390.0, 450.0, 500.0, 475.0, 500.0, \n",
        "                500.0, 340.0, 600.0, 600.0, 700.0, 700.0, 610.0, 650.0, 575.0, 685.0, 620.0, 680.0, \n",
        "                700.0, 725.0, 720.0, 714.0, 850.0, 1000.0, 920.0, 955.0, 925.0, 975.0, 950.0, 6.7, \n",
        "                7.5, 7.0, 9.7, 9.8, 8.7, 10.0, 9.9, 9.8, 12.2, 13.4, 12.2, 19.7, 19.9]"
      ],
      "metadata": {
        "id": "cFPPhcOJM86e"
      },
      "execution_count": 6,
      "outputs": []
    },
    {
      "cell_type": "code",
      "source": [
        "fish_data = [[l, w] for l, w in zip(fish_length, fish_weight)]\n",
        "fish_target = [1]*35 + [0]*14"
      ],
      "metadata": {
        "id": "lugIuw28NDYt"
      },
      "execution_count": 7,
      "outputs": []
    },
    {
      "cell_type": "markdown",
      "source": [
        "- 하나의 데이터를 **샘플**이라고 함"
      ],
      "metadata": {
        "id": "wqCTBdakNIo9"
      }
    },
    {
      "cell_type": "code",
      "source": [
        "from sklearn.neighbors import KNeighborsClassifier\n",
        "\n",
        "kn = KNeighborsClassifier()"
      ],
      "metadata": {
        "id": "jGYOzSWdNPY4"
      },
      "execution_count": 8,
      "outputs": []
    },
    {
      "cell_type": "code",
      "source": [
        "train_input = fish_data[:35]\n",
        "train_target = fish_target[:35]\n",
        "\n",
        "test_input = fish_data[35:]\n",
        "test_target = fish_target[35:]"
      ],
      "metadata": {
        "id": "X7zdjsdWNhzj"
      },
      "execution_count": 9,
      "outputs": []
    },
    {
      "cell_type": "code",
      "source": [
        "kn.fit(train_input, train_target)\n",
        "kn.score(test_input, test_target)"
      ],
      "metadata": {
        "colab": {
          "base_uri": "https://localhost:8080/"
        },
        "id": "YEMM8KJNNjrD",
        "outputId": "578564fc-a299-4b1e-97c3-f4b94e5204df"
      },
      "execution_count": 10,
      "outputs": [
        {
          "output_type": "execute_result",
          "data": {
            "text/plain": [
              "0.0"
            ]
          },
          "metadata": {},
          "execution_count": 10
        }
      ]
    }
  ]
}