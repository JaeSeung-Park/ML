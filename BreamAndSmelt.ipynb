{
  "nbformat": 4,
  "nbformat_minor": 0,
  "metadata": {
    "colab": {
      "provenance": [],
      "authorship_tag": "ABX9TyPRkigxJofR0B1y5o4vPjCD",
      "include_colab_link": true
    },
    "kernelspec": {
      "name": "python3",
      "display_name": "Python 3"
    },
    "language_info": {
      "name": "python"
    }
  },
  "cells": [
    {
      "cell_type": "markdown",
      "metadata": {
        "id": "view-in-github",
        "colab_type": "text"
      },
      "source": [
        "<a href=\"https://colab.research.google.com/github/JaeSeung-Park/ML/blob/main/BreamAndSmelt.ipynb\" target=\"_parent\"><img src=\"https://colab.research.google.com/assets/colab-badge.svg\" alt=\"Open In Colab\"/></a>"
      ]
    },
    {
      "cell_type": "markdown",
      "source": [
        "- 머신러닝에서 여러개의 종류(혹은 클래스) 중 하나를 구별해 내는 문제를 **분류**(Classification)이라고 부름\n",
        "- 2개의 클래스 중 하나를 고르는 문제를 **이진분류**(binary classification)이라고 함"
      ],
      "metadata": {
        "id": "yD4_qtwK_Jnd"
      }
    },
    {
      "cell_type": "markdown",
      "source": [
        "- **산점도**는 x, y축으로 이뤄진 좌표계에 두 변수(x, y)의 관계를 표현하는 방법\n",
        "- 파이썬에서 과학계산용 그래프를 그리는 대표적인 패키지 **matplotlib**"
      ],
      "metadata": {
        "id": "dmtRNdQcDxUd"
      }
    },
    {
      "cell_type": "code",
      "execution_count": null,
      "metadata": {
        "cellView": "code",
        "id": "VhQqJEmj-VvF"
      },
      "outputs": [],
      "source": [
        "bream_length = [25.4, 26.3, 26.5, 29.0, 29.0, 29.7, 29.7, 30.0, 30.0, 30.7, 31.0, 31.0, \n",
        "                31.5, 32.0, 32.0, 32.0, 33.0, 33.0, 33.5, 33.5, 34.0, 34.0, 34.5, 35.0, \n",
        "                35.0, 35.0, 35.0, 36.0, 36.0, 37.0, 38.5, 38.5, 39.5, 41.0, 41.0]\n",
        "bream_weight = [242.0, 290.0, 340.0, 363.0, 430.0, 450.0, 500.0, 390.0, 450.0, 500.0, 475.0, 500.0, \n",
        "                500.0, 340.0, 600.0, 600.0, 700.0, 700.0, 610.0, 650.0, 575.0, 685.0, 620.0, 680.0, \n",
        "                700.0, 725.0, 720.0, 714.0, 850.0, 1000.0, 920.0, 955.0, 925.0, 975.0, 950.0]\n",
        "\n",
        "import matplotlib.pyplot as plt\n",
        "\n",
        "plt.scatter(bream_length, bream_weight)\n",
        "plt.xlabel('length')\n",
        "plt.ylabel('weight')\n",
        "plt.show()\n",
        "\n",
        "smelt_length = [9.8, 10.5, 10.6, 11.0, 11.2, 11.3, 11.8, 11.8, 12.0, 12.2, 12.4, 13.0, 14.3, 15.0]\n",
        "smelt_weight = [6.7, 7.5, 7.0, 9.7, 9.8, 8.7, 10.0, 9.9, 9.8, 12.2, 13.4, 12.2, 19.7, 19.9]\n",
        "\n",
        "plt.scatter(bream_length, bream_weight)\n",
        "plt.scatter(smelt_length, smelt_weight)\n",
        "plt.xlabel('length')\n",
        "plt.ylabel('weight')\n",
        "plt.show()"
      ]
    },
    {
      "cell_type": "markdown",
      "source": [
        "- 산점도 그래프가 일직선에 가까운 형태로 나타남 -> **선형적**"
      ],
      "metadata": {
        "id": "rhWfOVEmD66T"
      }
    },
    {
      "cell_type": "markdown",
      "source": [
        "# ▶ k-nearest neighbors(k-최근접 이웃)"
      ],
      "metadata": {
        "id": "HaqPeCu7H4rs"
      }
    },
    {
      "cell_type": "code",
      "source": [
        "bream_length = [25.4, 26.3, 26.5, 29.0, 29.0, 29.7, 29.7, 30.0, 30.0, 30.7, 31.0, 31.0, \n",
        "                31.5, 32.0, 32.0, 32.0, 33.0, 33.0, 33.5, 33.5, 34.0, 34.0, 34.5, 35.0, \n",
        "                35.0, 35.0, 35.0, 36.0, 36.0, 37.0, 38.5, 38.5, 39.5, 41.0, 41.0]\n",
        "bream_weight = [242.0, 290.0, 340.0, 363.0, 430.0, 450.0, 500.0, 390.0, 450.0, 500.0, 475.0, 500.0, \n",
        "                500.0, 340.0, 600.0, 600.0, 700.0, 700.0, 610.0, 650.0, 575.0, 685.0, 620.0, 680.0, \n",
        "                700.0, 725.0, 720.0, 714.0, 850.0, 1000.0, 920.0, 955.0, 925.0, 975.0, 950.0]\n",
        "smelt_length = [9.8, 10.5, 10.6, 11.0, 11.2, 11.3, 11.8, 11.8, 12.0, 12.2, 12.4, 13.0, 14.3, 15.0]\n",
        "smelt_weight = [6.7, 7.5, 7.0, 9.7, 9.8, 8.7, 10.0, 9.9, 9.8, 12.2, 13.4, 12.2, 19.7, 19.9]\n",
        "\n",
        "lenght = bream_length + smelt_length\n",
        "weight = bream_weight + smelt_weight\n",
        "\n",
        "# 사이킷런 패키지를 사용하려면 2차원 리스트를 만들어야함\n",
        "# zip() 함수는 나열된 리스트 각각에서 하나씩 원소를 꺼내 반환함\n",
        "# zip() 함수와 리스트 내포 구문을 사용해 lenght와 weight 리스트를 2차원 리스트로 만듬\n",
        "fish_data = [[l, w] for l, w in zip(lenght, weight)]\n",
        "# print(fish_data)\n",
        "\n",
        "fish_target = [1] * 35 + [0] * 14\n",
        "# print(fish_target)\n",
        "\n",
        "from sklearn.neighbors import KNeighborsClassifier\n",
        "\n",
        "# 임포트한 KNeighborsClassifier 클래스의 객체를 먼저 만듬\n",
        "kn = KNeighborsClassifier()\n",
        "\n",
        "# 이 객체에 fish_data와 fish_target을 전달하여 bream을 찾기 위한 기준을 학습시킴\n",
        "# 모델에 데이터를 전달하여 규칙을 학습하는 과정을 '훈련'이라고 함 -> fit()\n",
        "kn.fit(fish_data, fish_target)\n",
        "\n",
        "# 모델을 평가하는 메서드 -> score() -> 값 = 정확도\n",
        "# 정확도 = (정확히 맞힌 개수) / (전체 데이터 개수)\n",
        "kn.score(fish_data, fish_target)\n",
        "\n",
        "# 새로운 데이터의 정답을 예측하는 메서드 -> predict()\n",
        "kn.predict([[30, 600]])\n",
        "\n",
        "#------------------------------------------------------------------------------\n",
        "kn1 = KNeighborsClassifier()\n",
        "kn1.fit(fish_data, fish_target)\n",
        "\n",
        "for n in range(5, 50):\n",
        "  # k-최근접 이웃 개수 설정\n",
        "  kn1.n_neighbors = n\n",
        "  score = kn1.score(fish_data, fish_target)\n",
        "  # 정확도 100%에 미치지 못하는 이웃 개수 찾기\n",
        "  if score < 1:\n",
        "    print(n, score)\n",
        "    break"
      ],
      "metadata": {
        "colab": {
          "base_uri": "https://localhost:8080/"
        },
        "id": "tSl88oM3IIWF",
        "outputId": "714b90a3-0829-4c71-faa7-7d514bb22caf"
      },
      "execution_count": 7,
      "outputs": [
        {
          "output_type": "stream",
          "name": "stdout",
          "text": [
            "18 0.9795918367346939\n"
          ]
        }
      ]
    },
    {
      "cell_type": "markdown",
      "source": [
        "- k-최근접 이웃 알고리즘 -> 어떤 데이터에 대한 답을 구할 때 주위의 다른 데이터를 보고 다수를 차지하는 것을 정답으로 사용함\n",
        "- 모든 데이터를 가지고 있어야하고 새로운 데이터에 대해 가장 가까운 직선거리에 어떤 데이터가 있는지 살펴보기만 하면 됨\n",
        "- 데이터가 아주 많은 경우 사용하기 어렵고 데이터가 크기 때문에 메모리와 계산시간이 많이 필요함"
      ],
      "metadata": {
        "id": "G0GIzrJDLOBK"
      }
    },
    {
      "cell_type": "markdown",
      "source": [
        "- KNeighborsClassifier 클래스의 기본값은 5 -> n-neighbors 매개변수로 바꿀 수 있음\n",
        "\n",
        ">>>ex) kn49 = KNeighborsClassifier(n_neighbors=49)"
      ],
      "metadata": {
        "id": "ES9d5cjZMxyk"
      }
    }
  ]
}